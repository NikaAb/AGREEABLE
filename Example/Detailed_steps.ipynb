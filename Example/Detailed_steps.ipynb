{
 "cells": [
  {
   "cell_type": "markdown",
   "metadata": {},
   "source": [
    "# Details of the tool scripts\n",
    "\n",
    "## Pre-clustering\n",
    "This step aims to identify groups of similar sequences to form initial clonal groups that will be refined later\n",
    "+ Creat the GTG input file"
   ]
  },
  {
   "cell_type": "code",
   "execution_count": 3,
   "metadata": {},
   "outputs": [],
   "source": [
    "%run ../src/format_labeling_imgt.py -s ../Data/IMGT_highvquest_output/toy_dataset/1_Summary.txt -g ../Data/IMGT_highvquest_output/toy_dataset/2_IMGT-gapped-nt-sequences.txt -o I1_"
   ]
  },
  {
   "cell_type": "markdown",
   "metadata": {},
   "source": [
    "   The format_labeling_imgt's output file, saved as `toy_dataset_seq_Fo_V_CDR3_Jseq.txt`, contains the followong colums "
   ]
  },
  {
   "cell_type": "markdown",
   "metadata": {},
   "source": [
    "<pre>\n",
    "sequence_name  productivity_statut   IGHV_gene_and_allele    IGHJ_gene_and_allele    CDR3_in_AA   Junction \n",
    "\n",
    "Example :\n",
    "S1\tproductive\tIGHV3-74*01\tIGHJ4*02\tCARDQGSADTGVGTAVPFDSW\tctttgactcctggggccagggaaccctggtcaccgtctcctcag\n",
    "S2\tproductive\tIGHV3-74*01\tIGHJ4*02\tCVRDQGSADTGVGTAVPFDSW\tctttgactcatggggccagggaaccctggtcaccgtctcctcag\n",
    "S3\tproductive\tIGHV3-74*01\tIGHJ4*02\tCVRDQGSADTGVGTAVPFDSW\tctttgactcatggggccagggaaccctggtcaccgtctcctcag\n",
    "S4\tproductive\tIGHV3-74*01\tIGHJ4*02\tCARDQGSADTGVGTAVPFDSW\tctttgactcctggggccagggaaccctggtcaccgtctcctcag\n",
    "</pre>"
   ]
  },
  {
   "cell_type": "markdown",
   "metadata": {},
   "source": [
    "+ Creat the initial clusters by grouping sequences with the same IGHV and IGHJ genes, and same CDR3 sequence length. Next, we separate sequences with less than 70% of CDR3 identity."
   ]
  },
  {
   "cell_type": "code",
   "execution_count": 19,
   "metadata": {},
   "outputs": [
    {
     "name": "stdout",
     "output_type": "stream",
     "text": [
      "Collecting python-Levenshtein\n",
      "Collecting setuptools (from python-Levenshtein)\n",
      "  Using cached https://files.pythonhosted.org/packages/6d/38/c21ef5034684ffc0412deefbb07d66678332290c14bb5269c85145fbd55e/setuptools-50.3.2-py3-none-any.whl\n",
      "Installing collected packages: setuptools, python-Levenshtein\n",
      "Successfully installed python-Levenshtein-0.12.0 setuptools-50.3.2\n"
     ]
    },
    {
     "ename": "ModuleNotFoundError",
     "evalue": "No module named 'Levenshtein'",
     "output_type": "error",
     "traceback": [
      "\u001b[0;31m---------------------------------------------------------------------------\u001b[0m",
      "\u001b[0;31mModuleNotFoundError\u001b[0m                       Traceback (most recent call last)",
      "\u001b[0;32m/home/julianab/Desktop/Current_projects/GTM/BCR_GTG/Example/jupyter_folder/initial_clustering.py\u001b[0m in \u001b[0;36m<module>\u001b[0;34m()\u001b[0m\n\u001b[1;32m      7\u001b[0m \u001b[0;32mfrom\u001b[0m \u001b[0moptparse\u001b[0m \u001b[0;32mimport\u001b[0m \u001b[0mOptionParser\u001b[0m\u001b[0;34m\u001b[0m\u001b[0;34m\u001b[0m\u001b[0m\n\u001b[1;32m      8\u001b[0m \u001b[0;32mimport\u001b[0m \u001b[0moperator\u001b[0m\u001b[0;34m\u001b[0m\u001b[0;34m\u001b[0m\u001b[0m\n\u001b[0;32m----> 9\u001b[0;31m \u001b[0;32mfrom\u001b[0m \u001b[0mLevenshtein\u001b[0m \u001b[0;32mimport\u001b[0m \u001b[0mdistance\u001b[0m \u001b[0;32mas\u001b[0m \u001b[0mlevenshtein_distance\u001b[0m\u001b[0;34m\u001b[0m\u001b[0;34m\u001b[0m\u001b[0m\n\u001b[0m\u001b[1;32m     10\u001b[0m \u001b[0;32mimport\u001b[0m \u001b[0mskbio\u001b[0m\u001b[0;34m\u001b[0m\u001b[0;34m\u001b[0m\u001b[0m\n\u001b[1;32m     11\u001b[0m \u001b[0;31m# =============================================================================\u001b[0m\u001b[0;34m\u001b[0m\u001b[0;34m\u001b[0m\u001b[0;34m\u001b[0m\u001b[0m\n",
      "\u001b[0;31mModuleNotFoundError\u001b[0m: No module named 'Levenshtein'"
     ]
    },
    {
     "ename": "FileNotFoundError",
     "evalue": "[Errno 2] No such file or directory: 'I1_IMGT_sameVJ_noallele_CDR3_0.7.txt'",
     "output_type": "error",
     "traceback": [
      "\u001b[0;31m---------------------------------------------------------------------------\u001b[0m",
      "\u001b[0;31mFileNotFoundError\u001b[0m                         Traceback (most recent call last)",
      "\u001b[0;32m/home/julianab/Desktop/Current_projects/GTM/BCR_GTG/Example/jupyter_folder/format_clustering_output.py\u001b[0m in \u001b[0;36m<module>\u001b[0;34m()\u001b[0m\n\u001b[1;32m     72\u001b[0m \u001b[0mreadParameters\u001b[0m\u001b[0;34m(\u001b[0m\u001b[0msys\u001b[0m\u001b[0;34m.\u001b[0m\u001b[0margv\u001b[0m\u001b[0;34m)\u001b[0m\u001b[0;34m\u001b[0m\u001b[0;34m\u001b[0m\u001b[0m\n\u001b[1;32m     73\u001b[0m \u001b[0mcheckParameters\u001b[0m\u001b[0;34m(\u001b[0m\u001b[0;34m)\u001b[0m\u001b[0;34m\u001b[0m\u001b[0;34m\u001b[0m\u001b[0m\n\u001b[0;32m---> 74\u001b[0;31m \u001b[0mlines\u001b[0m\u001b[0;34m=\u001b[0m\u001b[0mread_output_file\u001b[0m\u001b[0;34m(\u001b[0m\u001b[0mInput_file\u001b[0m\u001b[0;34m)\u001b[0m\u001b[0;34m\u001b[0m\u001b[0;34m\u001b[0m\u001b[0m\n\u001b[0m\u001b[1;32m     75\u001b[0m \u001b[0mDico_first\u001b[0m\u001b[0;34m=\u001b[0m \u001b[0mdico_format\u001b[0m\u001b[0;34m(\u001b[0m\u001b[0mlines\u001b[0m\u001b[0;34m)\u001b[0m\u001b[0;34m\u001b[0m\u001b[0;34m\u001b[0m\u001b[0m\n\u001b[1;32m     76\u001b[0m \u001b[0mwrite_file\u001b[0m\u001b[0;34m(\u001b[0m\u001b[0mDico_first\u001b[0m\u001b[0;34m)\u001b[0m\u001b[0;34m\u001b[0m\u001b[0;34m\u001b[0m\u001b[0m\n",
      "\u001b[0;32m/home/julianab/Desktop/Current_projects/GTM/BCR_GTG/Example/jupyter_folder/format_clustering_output.py\u001b[0m in \u001b[0;36mread_output_file\u001b[0;34m(filename)\u001b[0m\n\u001b[1;32m     35\u001b[0m \u001b[0;31m#===================================================================================\u001b[0m\u001b[0;34m\u001b[0m\u001b[0;34m\u001b[0m\u001b[0;34m\u001b[0m\u001b[0m\n\u001b[1;32m     36\u001b[0m \u001b[0;32mdef\u001b[0m \u001b[0mread_output_file\u001b[0m\u001b[0;34m(\u001b[0m\u001b[0mfilename\u001b[0m\u001b[0;34m)\u001b[0m\u001b[0;34m:\u001b[0m\u001b[0;34m\u001b[0m\u001b[0;34m\u001b[0m\u001b[0m\n\u001b[0;32m---> 37\u001b[0;31m         \u001b[0mf\u001b[0m\u001b[0;34m=\u001b[0m\u001b[0mopen\u001b[0m\u001b[0;34m(\u001b[0m\u001b[0mfilename\u001b[0m\u001b[0;34m,\u001b[0m\u001b[0;34m\"r\"\u001b[0m\u001b[0;34m)\u001b[0m\u001b[0;34m\u001b[0m\u001b[0;34m\u001b[0m\u001b[0m\n\u001b[0m\u001b[1;32m     38\u001b[0m         \u001b[0mlines\u001b[0m\u001b[0;34m=\u001b[0m\u001b[0mf\u001b[0m\u001b[0;34m.\u001b[0m\u001b[0mreadlines\u001b[0m\u001b[0;34m(\u001b[0m\u001b[0;34m)\u001b[0m\u001b[0;34m\u001b[0m\u001b[0;34m\u001b[0m\u001b[0m\n\u001b[1;32m     39\u001b[0m         \u001b[0mf\u001b[0m\u001b[0;34m.\u001b[0m\u001b[0mclose\u001b[0m\u001b[0;34m(\u001b[0m\u001b[0;34m)\u001b[0m\u001b[0;34m\u001b[0m\u001b[0;34m\u001b[0m\u001b[0m\n",
      "\u001b[0;31mFileNotFoundError\u001b[0m: [Errno 2] No such file or directory: 'I1_IMGT_sameVJ_noallele_CDR3_0.7.txt'"
     ]
    }
   ],
   "source": [
    "import sys\n",
    "!{sys.executable} -m pip install python-Levenshtein\n",
    "%run ../src/initial_clustering.py -i toy_dataset_seq_Fo_V_CDR3_Jseq.txt -o toy_dataset -s 0.7\n",
    "%run ../src/format_clustering_output.py -i toy_dataset_sameVJ_noallele_CDR3_0.7.txt -o toy_dataset_initial_clusters_Fo.txt"
   ]
  },
  {
   "cell_type": "markdown",
   "metadata": {},
   "source": [
    "## Clustering refining\n",
    "+ we iteratively refine initial clonal groups until it is not possible to minimize intraclonal distances or maximize interclonal distances."
   ]
  },
  {
   "cell_type": "code",
   "execution_count": 4,
   "metadata": {},
   "outputs": [],
   "source": [
    "%run ../src/format_clustering_output.py -i toy_dataset_seq_Fo_V_CDR3_Jseq_clone_V_CDR3_J.txt -o toy_dataset_final_clusters_Fo.txt\n",
    "%run ../src/two_level_clonal_info.py -f toy_dataset_seq_Fo_V_CDR3_Jseq.txt -c toy_dataset_final_clusters_Fo.txt -n toy_dataset"
   ]
  },
  {
   "cell_type": "markdown",
   "metadata": {},
   "source": [
    "Two main output files are :\n",
    "\n",
    "1) The `toy_dataset_final_clusters_seq_info.txt` containes :"
   ]
  },
  {
   "cell_type": "markdown",
   "metadata": {},
   "source": [
    "<pre>\n",
    "Clone_clonotype    sequence_name  productivity_statut   IGHV_gene_and_allele    IGHJ_gene_and_allele    CDR3_in_AA   Junction\n",
    "\n",
    "Example :\n",
    "0_0\tS1\tproductive\tIGHV3-74*01\tIGHJ4*02\tCARDQGSADTGVGTAVPFDSW\tctttgactcctggggccagggaaccctggtcaccgtctcctcag\n",
    "0_0\tS4\tproductive\tIGHV3-74*01\tIGHJ4*02\tCARDQGSADTGVGTAVPFDSW\tctttgactcctggggccagggaaccctggtcaccgtctcctcag\n",
    "1_0\tS9\tproductive\tIGHV3-74*01\tIGHJ4*02\tCARDQGSADTGVGTAVPFDSW\tctttgactcctggggccagggaaccctggtcaccgtctcctcag\n",
    "1_1\tS35\tproductive\tIGHV3-74*01\tIGHJ4*02\tCARDQGSADTGVGTAVPFDSW\tctttgactcctggggccagggaaccctggtcaccgtctcctcag\n",
    "</pre>"
   ]
  },
  {
   "cell_type": "markdown",
   "metadata": {},
   "source": [
    "2) The `toy_dataset_final_clusters_Fo.txt` contains"
   ]
  },
  {
   "cell_type": "markdown",
   "metadata": {},
   "source": [
    "<pre>\n",
    "clone    Seq_1  Seq_2 \n",
    "\n",
    "Example : \n",
    "111\tS2181 S19881 S22000 S31862\n",
    "112\tS2384\n",
    "</pre>"
   ]
  },
  {
   "cell_type": "code",
   "execution_count": null,
   "metadata": {},
   "outputs": [],
   "source": []
  }
 ],
 "metadata": {
  "kernelspec": {
   "display_name": "Python 3",
   "language": "python",
   "name": "python3"
  },
  "language_info": {
   "codemirror_mode": {
    "name": "ipython",
    "version": 3
   },
   "file_extension": ".py",
   "mimetype": "text/x-python",
   "name": "python",
   "nbconvert_exporter": "python",
   "pygments_lexer": "ipython3",
   "version": "3.6.9"
  }
 },
 "nbformat": 4,
 "nbformat_minor": 2
}
